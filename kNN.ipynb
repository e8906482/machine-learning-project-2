{
 "cells": [
  {
   "cell_type": "code",
   "execution_count": 1,
   "metadata": {
    "collapsed": true
   },
   "outputs": [],
   "source": [
    "import numpy as np\n",
    "import operator"
   ]
  },
  {
   "cell_type": "code",
   "execution_count": 2,
   "metadata": {
    "collapsed": true
   },
   "outputs": [],
   "source": [
    "# create data set:for example below: [1.0,1.1,1,1]is input, its label will be \"A\"\n",
    "# when a new input come we have to predict its label.\n",
    "def createDataSet():\n",
    "    group = np.array([[1.0,1.1,1,1],[1.0,1.0,1,1],[0,0,0,1],[0,0,0.1,1]])\n",
    "    labels = ['A','A','B','B']\n",
    "    return group,labels"
   ]
  },
  {
   "cell_type": "code",
   "execution_count": 3,
   "metadata": {},
   "outputs": [
    {
     "name": "stdout",
     "output_type": "stream",
     "text": [
      "B\n"
     ]
    }
   ],
   "source": [
    "#compute the minimum distance\n",
    "group,labels = createDataSet()\n",
    "def classify0(inx,dataSet,labels,k):\n",
    "    \n",
    "    dataSetSize = dataSet.shape[0]\n",
    "    diffMat = np.tile(inx,(dataSetSize,1))-dataSet\n",
    "    sqDiffMat = diffMat**2\n",
    "    sqDistances = sqDiffMat.sum(axis = 1)\n",
    "    distances = sqDistances**0.5\n",
    "    sortedDistIndicies = distances.argsort()\n",
    "    \n",
    "    #re-arrange  the result by their key value, here from large to small.\n",
    "    classCount = {}\n",
    "    for i in range(k):\n",
    "        votelabel = labels[sortedDistIndicies[i]]\n",
    "        classCount[votelabel] = classCount.get(votelabel,0) + 1\n",
    "        \n",
    "    sortedClassCount = sorted(classCount.items(),key = operator.itemgetter(1),reverse=True)\n",
    "    \n",
    "    return sortedClassCount [0] [0]\n",
    "#let say the input below is [0,0.2,0.1,2], the predict label is B\n",
    "print(classify0([0,.2,.1,2],group,labels,3))\n"
   ]
  },
  {
   "cell_type": "code",
   "execution_count": null,
   "metadata": {
    "collapsed": true
   },
   "outputs": [],
   "source": []
  },
  {
   "cell_type": "code",
   "execution_count": null,
   "metadata": {
    "collapsed": true
   },
   "outputs": [],
   "source": []
  }
 ],
 "metadata": {
  "kernelspec": {
   "display_name": "Python 3",
   "language": "python",
   "name": "python3"
  },
  "language_info": {
   "codemirror_mode": {
    "name": "ipython",
    "version": 3
   },
   "file_extension": ".py",
   "mimetype": "text/x-python",
   "name": "python",
   "nbconvert_exporter": "python",
   "pygments_lexer": "ipython3",
   "version": "3.6.3"
  }
 },
 "nbformat": 4,
 "nbformat_minor": 2
}
